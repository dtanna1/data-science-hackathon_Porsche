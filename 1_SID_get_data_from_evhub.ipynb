{
 "cells": [
  {
   "cell_type": "code",
   "execution_count": 1,
   "metadata": {},
   "outputs": [],
   "source": [
    "import pandas as pd\n",
    "import requests\n",
    "import os\n",
    "import json"
   ]
  },
  {
   "cell_type": "markdown",
   "metadata": {},
   "source": [
    "## Get Registration data for EV "
   ]
  },
  {
   "cell_type": "code",
   "execution_count": 6,
   "metadata": {},
   "outputs": [],
   "source": [
    "\n",
    "CURRENT_PATH = os.getcwd()"
   ]
  },
  {
   "cell_type": "code",
   "execution_count": 5,
   "metadata": {},
   "outputs": [],
   "source": [
    "DATA_PATH = os.path.join(CURRENT_PATH,\"data\")"
   ]
  },
  {
   "cell_type": "code",
   "execution_count": 7,
   "metadata": {},
   "outputs": [],
   "source": [
    "reg_df = pd.DataFrame()"
   ]
  },
  {
   "cell_type": "code",
   "execution_count": 9,
   "metadata": {},
   "outputs": [],
   "source": [
    "ev_reg_files = ['co_ev_registrations_public.xlsx',\n",
    " 'ct_ev_registrations.xlsx',\n",
    " 'fl_ev_registrations.xlsx',\n",
    " 'mi_ev_registrations_public.xlsx',\n",
    " 'mn_ev_registrations_public.xlsx',\n",
    " 'nj_ev_registrations_public.xlsx',\n",
    " 'ny_ev_registrations_public.xlsx',\n",
    " 'or_ev_registrations_public.xlsx',\n",
    " 'tx_ev_registrations_public.xlsx',\n",
    " 'va_ev_registrations_public.xlsx',\n",
    " 'vt_ev_registrations_public.xlsx',\n",
    " 'wa_ev_registrations_public.xlsx',\n",
    " 'wi_ev_registrations_public.xlsx']\n"
   ]
  },
  {
   "cell_type": "code",
   "execution_count": 26,
   "metadata": {},
   "outputs": [
    {
     "name": "stderr",
     "output_type": "stream",
     "text": [
      "C:\\Users\\SMaharana\\AppData\\Local\\Continuum\\anaconda3\\lib\\site-packages\\ipykernel_launcher.py:6: FutureWarning: Sorting because non-concatenation axis is not aligned. A future version\n",
      "of pandas will change to not sort by default.\n",
      "\n",
      "To accept the future behavior, pass 'sort=False'.\n",
      "\n",
      "To retain the current behavior and silence the warning, pass 'sort=True'.\n",
      "\n",
      "  \n"
     ]
    }
   ],
   "source": [
    "for f in ev_reg_files:\n",
    "    file_path = os.path.join(DATA_PATH,f)\n",
    "    temp_df = pd.read_excel(file_path)\n",
    "    temp_df['file_name'] = f\n",
    "#     temp_df['state'] = file_path.split(\"_\")[-4].split(\"\\\\\")[-1] ## getting the name of the state from the file name\n",
    "    reg_df = pd.concat([reg_df,temp_df])"
   ]
  },
  {
   "cell_type": "code",
   "execution_count": 38,
   "metadata": {},
   "outputs": [
    {
     "data": {
      "text/plain": [
       "ny_ev_registrations_public.xlsx    956830\n",
       "wa_ev_registrations_public.xlsx    429192\n",
       "nj_ev_registrations_public.xlsx     91143\n",
       "or_ev_registrations_public.xlsx     76342\n",
       "tx_ev_registrations_public.xlsx     74143\n",
       "fl_ev_registrations.xlsx            67209\n",
       "va_ev_registrations_public.xlsx     28039\n",
       "mi_ev_registrations_public.xlsx     27518\n",
       "co_ev_registrations_public.xlsx     22751\n",
       "mn_ev_registrations_public.xlsx     16177\n",
       "ct_ev_registrations.xlsx            10569\n",
       "wi_ev_registrations_public.xlsx      6380\n",
       "vt_ev_registrations_public.xlsx      6196\n",
       "Name: file_name, dtype: int64"
      ]
     },
     "execution_count": 38,
     "metadata": {},
     "output_type": "execute_result"
    }
   ],
   "source": [
    "reg_df['file_name'].value_counts()"
   ]
  },
  {
   "cell_type": "code",
   "execution_count": 40,
   "metadata": {},
   "outputs": [],
   "source": [
    "reg_df['state'] = reg_df['file_name'].apply(lambda x: x.split(\"_\")[0])"
   ]
  },
  {
   "cell_type": "code",
   "execution_count": 43,
   "metadata": {},
   "outputs": [
    {
     "data": {
      "text/html": [
       "<div>\n",
       "<style scoped>\n",
       "    .dataframe tbody tr th:only-of-type {\n",
       "        vertical-align: middle;\n",
       "    }\n",
       "\n",
       "    .dataframe tbody tr th {\n",
       "        vertical-align: top;\n",
       "    }\n",
       "\n",
       "    .dataframe thead th {\n",
       "        text-align: right;\n",
       "    }\n",
       "</style>\n",
       "<table border=\"1\" class=\"dataframe\">\n",
       "  <thead>\n",
       "    <tr style=\"text-align: right;\">\n",
       "      <th></th>\n",
       "      <th>County</th>\n",
       "      <th>County GEOID</th>\n",
       "      <th>DMV ID</th>\n",
       "      <th>Registration Expiration Date</th>\n",
       "      <th>Registration Valid Date</th>\n",
       "      <th>VIN Model Year</th>\n",
       "      <th>VIN Prefix</th>\n",
       "      <th>Vehicle Name</th>\n",
       "      <th>ZIP Code</th>\n",
       "      <th>file_name</th>\n",
       "      <th>state</th>\n",
       "    </tr>\n",
       "  </thead>\n",
       "  <tbody>\n",
       "    <tr>\n",
       "      <th>0</th>\n",
       "      <td>NaN</td>\n",
       "      <td>NaN</td>\n",
       "      <td>1</td>\n",
       "      <td>2020-08-31 00:00:00</td>\n",
       "      <td>2019-08-07</td>\n",
       "      <td>K</td>\n",
       "      <td>5YJ3E1EA</td>\n",
       "      <td>NaN</td>\n",
       "      <td>80003</td>\n",
       "      <td>co_ev_registrations_public.xlsx</td>\n",
       "      <td>co</td>\n",
       "    </tr>\n",
       "    <tr>\n",
       "      <th>1</th>\n",
       "      <td>NaN</td>\n",
       "      <td>NaN</td>\n",
       "      <td>1</td>\n",
       "      <td>2020-08-31 00:00:00</td>\n",
       "      <td>2019-08-07</td>\n",
       "      <td>K</td>\n",
       "      <td>5YJ3E1EA</td>\n",
       "      <td>NaN</td>\n",
       "      <td>80241</td>\n",
       "      <td>co_ev_registrations_public.xlsx</td>\n",
       "      <td>co</td>\n",
       "    </tr>\n",
       "    <tr>\n",
       "      <th>2</th>\n",
       "      <td>NaN</td>\n",
       "      <td>NaN</td>\n",
       "      <td>1</td>\n",
       "      <td>2020-08-31 00:00:00</td>\n",
       "      <td>2019-08-07</td>\n",
       "      <td>G</td>\n",
       "      <td>1N4BZ0CP</td>\n",
       "      <td>NaN</td>\n",
       "      <td>80212</td>\n",
       "      <td>co_ev_registrations_public.xlsx</td>\n",
       "      <td>co</td>\n",
       "    </tr>\n",
       "    <tr>\n",
       "      <th>3</th>\n",
       "      <td>NaN</td>\n",
       "      <td>NaN</td>\n",
       "      <td>1</td>\n",
       "      <td>2020-08-31 00:00:00</td>\n",
       "      <td>2019-08-07</td>\n",
       "      <td>E</td>\n",
       "      <td>5YJSA1H1</td>\n",
       "      <td>NaN</td>\n",
       "      <td>80210</td>\n",
       "      <td>co_ev_registrations_public.xlsx</td>\n",
       "      <td>co</td>\n",
       "    </tr>\n",
       "    <tr>\n",
       "      <th>4</th>\n",
       "      <td>NaN</td>\n",
       "      <td>NaN</td>\n",
       "      <td>1</td>\n",
       "      <td>2020-07-31 00:00:00</td>\n",
       "      <td>2019-08-07</td>\n",
       "      <td>C</td>\n",
       "      <td>5YJSA1CN</td>\n",
       "      <td>NaN</td>\n",
       "      <td>80304</td>\n",
       "      <td>co_ev_registrations_public.xlsx</td>\n",
       "      <td>co</td>\n",
       "    </tr>\n",
       "  </tbody>\n",
       "</table>\n",
       "</div>"
      ],
      "text/plain": [
       "  County  County GEOID  DMV ID Registration Expiration Date  \\\n",
       "0    NaN           NaN       1          2020-08-31 00:00:00   \n",
       "1    NaN           NaN       1          2020-08-31 00:00:00   \n",
       "2    NaN           NaN       1          2020-08-31 00:00:00   \n",
       "3    NaN           NaN       1          2020-08-31 00:00:00   \n",
       "4    NaN           NaN       1          2020-07-31 00:00:00   \n",
       "\n",
       "  Registration Valid Date VIN Model Year VIN Prefix Vehicle Name ZIP Code  \\\n",
       "0              2019-08-07              K   5YJ3E1EA          NaN    80003   \n",
       "1              2019-08-07              K   5YJ3E1EA          NaN    80241   \n",
       "2              2019-08-07              G   1N4BZ0CP          NaN    80212   \n",
       "3              2019-08-07              E   5YJSA1H1          NaN    80210   \n",
       "4              2019-08-07              C   5YJSA1CN          NaN    80304   \n",
       "\n",
       "                         file_name state  \n",
       "0  co_ev_registrations_public.xlsx    co  \n",
       "1  co_ev_registrations_public.xlsx    co  \n",
       "2  co_ev_registrations_public.xlsx    co  \n",
       "3  co_ev_registrations_public.xlsx    co  \n",
       "4  co_ev_registrations_public.xlsx    co  "
      ]
     },
     "execution_count": 43,
     "metadata": {},
     "output_type": "execute_result"
    }
   ],
   "source": [
    "reg_df.head()"
   ]
  },
  {
   "cell_type": "code",
   "execution_count": 45,
   "metadata": {},
   "outputs": [
    {
     "data": {
      "text/plain": [
       "314"
      ]
     },
     "execution_count": 45,
     "metadata": {},
     "output_type": "execute_result"
    }
   ],
   "source": [
    "reg_df['VIN Prefix'].nunique()"
   ]
  },
  {
   "cell_type": "markdown",
   "metadata": {},
   "source": [
    "### Saving all data in a csv [Can directly import from here]"
   ]
  },
  {
   "cell_type": "code",
   "execution_count": 42,
   "metadata": {},
   "outputs": [],
   "source": [
    "reg_df.to_csv('data/registration_data_all_states.csv')"
   ]
  },
  {
   "cell_type": "markdown",
   "metadata": {},
   "source": [
    "### Getting aggregated data by zipcodes\n",
    "\n",
    "I am still not able to figure out the granularity in the data sets.\n",
    "I tried to compare the number of rows with the BI dashboard, but it seems like we need to take the aggregate for the latest registration date.\n",
    "\n",
    "So, I will get the count of EVs for the latest registration date per Zip Code"
   ]
  },
  {
   "cell_type": "code",
   "execution_count": 48,
   "metadata": {},
   "outputs": [],
   "source": [
    "unique_state_list = reg_df['state'].unique().tolist()"
   ]
  },
  {
   "cell_type": "markdown",
   "metadata": {},
   "source": [
    "\n",
    "For each state\n",
    "    - Get max registration date\n",
    "    - Get count of rows by ZIP code\n",
    "\n"
   ]
  },
  {
   "cell_type": "code",
   "execution_count": 52,
   "metadata": {},
   "outputs": [],
   "source": [
    "zip_df = pd.DataFrame()"
   ]
  },
  {
   "cell_type": "code",
   "execution_count": 77,
   "metadata": {},
   "outputs": [
    {
     "name": "stdout",
     "output_type": "stream",
     "text": [
      "processing.. co\n",
      "processing.. ct\n",
      "processing.. fl\n",
      "Skipping.. fl\n",
      "processing.. mi\n",
      "processing.. mn\n",
      "processing.. nj\n",
      "processing.. ny\n",
      "processing.. or\n",
      "processing.. tx\n",
      "processing.. va\n",
      "Skipping.. va\n",
      "processing.. vt\n",
      "processing.. wa\n",
      "processing.. wi\n"
     ]
    }
   ],
   "source": [
    "for state in unique_state_list:\n",
    "    print (\"processing..\", state)\n",
    "    try:\n",
    "        ## filter dataframe by state\n",
    "        df = reg_df[reg_df['state'] ==state]\n",
    "        ## get max reg date for each state\n",
    "        max_reg_date = df['Registration Valid Date'].max()\n",
    "        ## get count by zip code\n",
    "        temp_df = pd.DataFrame({'count' : df.groupby(['ZIP Code']).size()}).reset_index()\n",
    "        temp_df['state'] = state\n",
    "        zip_df = pd.concat([zip_df,temp_df])\n",
    "    except:\n",
    "        print (\"Skipping..\", state)\n",
    "    "
   ]
  },
  {
   "cell_type": "code",
   "execution_count": 84,
   "metadata": {},
   "outputs": [
    {
     "data": {
      "text/plain": [
       "8923"
      ]
     },
     "execution_count": 84,
     "metadata": {},
     "output_type": "execute_result"
    }
   ],
   "source": [
    "zip_df['ZIP Code'].nunique()"
   ]
  },
  {
   "cell_type": "markdown",
   "metadata": {},
   "source": [
    "8923 zip codes processed and some states(fl, va) have no zip codes"
   ]
  },
  {
   "cell_type": "code",
   "execution_count": 86,
   "metadata": {},
   "outputs": [],
   "source": [
    "zip_df.to_csv('data/zip_data.csv')"
   ]
  }
 ],
 "metadata": {
  "kernelspec": {
   "display_name": "Python 3",
   "language": "python",
   "name": "python3"
  },
  "language_info": {
   "codemirror_mode": {
    "name": "ipython",
    "version": 3
   },
   "file_extension": ".py",
   "mimetype": "text/x-python",
   "name": "python",
   "nbconvert_exporter": "python",
   "pygments_lexer": "ipython3",
   "version": "3.7.1"
  },
  "toc": {
   "base_numbering": 1,
   "nav_menu": {},
   "number_sections": true,
   "sideBar": true,
   "skip_h1_title": false,
   "title_cell": "Table of Contents",
   "title_sidebar": "Contents",
   "toc_cell": false,
   "toc_position": {},
   "toc_section_display": true,
   "toc_window_display": false
  }
 },
 "nbformat": 4,
 "nbformat_minor": 2
}
